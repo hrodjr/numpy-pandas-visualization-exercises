{
 "cells": [
  {
   "cell_type": "code",
   "execution_count": 108,
   "id": "9eaa055e",
   "metadata": {},
   "outputs": [],
   "source": [
    "import numpy as np\n",
    "a = np.array([4, 10, 12, 23, -2, -1, 0, 0, 0, -6, 3, -7])"
   ]
  },
  {
   "cell_type": "code",
   "execution_count": 3,
   "id": "1f927087",
   "metadata": {},
   "outputs": [
    {
     "data": {
      "text/plain": [
       "array([ 4, 10, 12, 23, -2, -1,  0,  0,  0, -6,  3, -7])"
      ]
     },
     "execution_count": 3,
     "metadata": {},
     "output_type": "execute_result"
    }
   ],
   "source": [
    "a"
   ]
  },
  {
   "cell_type": "code",
   "execution_count": 4,
   "id": "06fba5a8",
   "metadata": {},
   "outputs": [
    {
     "data": {
      "text/plain": [
       "12"
      ]
     },
     "execution_count": 4,
     "metadata": {},
     "output_type": "execute_result"
    }
   ],
   "source": [
    "a[2]"
   ]
  },
  {
   "cell_type": "code",
   "execution_count": 16,
   "id": "51195f79",
   "metadata": {},
   "outputs": [
    {
     "data": {
      "text/plain": [
       "12"
      ]
     },
     "execution_count": 16,
     "metadata": {},
     "output_type": "execute_result"
    }
   ],
   "source": [
    "len(a)"
   ]
  },
  {
   "cell_type": "code",
   "execution_count": 32,
   "id": "59ecf0d6",
   "metadata": {},
   "outputs": [
    {
     "data": {
      "text/plain": [
       "4"
      ]
     },
     "execution_count": 32,
     "metadata": {},
     "output_type": "execute_result"
    }
   ],
   "source": [
    "#1. How many negative numbers are there?\n",
    "(a<0).sum() #I do not understand how sum() works here. Looks like it acts as a count.\n",
    "#Why does it need to be in ()?"
   ]
  },
  {
   "cell_type": "code",
   "execution_count": 45,
   "id": "261d74d7",
   "metadata": {},
   "outputs": [
    {
     "data": {
      "text/plain": [
       "5"
      ]
     },
     "execution_count": 45,
     "metadata": {},
     "output_type": "execute_result"
    }
   ],
   "source": [
    "#2. How many positive numbers are there?\n",
    "(a>0).sum()"
   ]
  },
  {
   "cell_type": "code",
   "execution_count": 54,
   "id": "7c33ed1b",
   "metadata": {},
   "outputs": [
    {
     "name": "stdout",
     "output_type": "stream",
     "text": [
      "4\n",
      "10\n",
      "12\n"
     ]
    }
   ],
   "source": [
    "#3. How many even positive numbers are there?\n",
    "for number in a:\n",
    "    if number % 2 == 0 and number >0:\n",
    "        print(number.sum())"
   ]
  },
  {
   "cell_type": "code",
   "execution_count": null,
   "id": "4f86978d",
   "metadata": {},
   "outputs": [],
   "source": [
    "#4. If you were to add 3 to each data point, how many positive numbers would there be?"
   ]
  },
  {
   "cell_type": "code",
   "execution_count": 59,
   "id": "b4849b54",
   "metadata": {},
   "outputs": [
    {
     "data": {
      "text/plain": [
       "array([ 7, 13, 15, 26,  1,  2,  3,  3,  3, -3,  6, -4])"
      ]
     },
     "execution_count": 59,
     "metadata": {},
     "output_type": "execute_result"
    }
   ],
   "source": [
    "add_three = a + 3\n",
    "add_three"
   ]
  },
  {
   "cell_type": "code",
   "execution_count": 60,
   "id": "3b7a38f4",
   "metadata": {},
   "outputs": [
    {
     "data": {
      "text/plain": [
       "array([ True,  True,  True,  True,  True,  True,  True,  True,  True,\n",
       "       False,  True, False])"
      ]
     },
     "execution_count": 60,
     "metadata": {},
     "output_type": "execute_result"
    }
   ],
   "source": [
    "add_three > 0"
   ]
  },
  {
   "cell_type": "code",
   "execution_count": 65,
   "id": "8a8ae74e",
   "metadata": {},
   "outputs": [
    {
     "data": {
      "text/plain": [
       "10"
      ]
     },
     "execution_count": 65,
     "metadata": {},
     "output_type": "execute_result"
    }
   ],
   "source": [
    "(add_three > 0).sum()"
   ]
  },
  {
   "cell_type": "code",
   "execution_count": 74,
   "id": "4ddbf410",
   "metadata": {},
   "outputs": [
    {
     "data": {
      "text/plain": [
       "array([ 16, 100, 144, 529,   4,   1,   0,   0,   0,  36,   9,  49])"
      ]
     },
     "execution_count": 74,
     "metadata": {},
     "output_type": "execute_result"
    }
   ],
   "source": [
    "#5. If you squared each number, what would the new mean and standard deviation be?\n",
    "square_of_numbers = np.square(a)\n",
    "square_of_numbers"
   ]
  },
  {
   "cell_type": "code",
   "execution_count": 80,
   "id": "fe4d7f2d",
   "metadata": {},
   "outputs": [
    {
     "data": {
      "text/plain": [
       "74.0"
      ]
     },
     "execution_count": 80,
     "metadata": {},
     "output_type": "execute_result"
    }
   ],
   "source": [
    "#mean\n",
    "square_of_numbers.mean()\n"
   ]
  },
  {
   "cell_type": "code",
   "execution_count": 82,
   "id": "6cead0b2",
   "metadata": {},
   "outputs": [
    {
     "data": {
      "text/plain": [
       "144.0243035046516"
      ]
     },
     "execution_count": 82,
     "metadata": {},
     "output_type": "execute_result"
    }
   ],
   "source": [
    "#standard deviation\n",
    "np.std(square_of_numbers)\n"
   ]
  },
  {
   "cell_type": "code",
   "execution_count": 84,
   "id": "af28eff3",
   "metadata": {},
   "outputs": [
    {
     "data": {
      "text/plain": [
       "3.0"
      ]
     },
     "execution_count": 84,
     "metadata": {},
     "output_type": "execute_result"
    }
   ],
   "source": [
    "#6. Center the data set.\n",
    "#first - find the mean of the array\n",
    "\n",
    "#mean of the array\n",
    "mean_of_array = a.mean()\n",
    "mean_of_array"
   ]
  },
  {
   "cell_type": "code",
   "execution_count": 88,
   "id": "fb8267ee",
   "metadata": {},
   "outputs": [
    {
     "data": {
      "text/plain": [
       "3.0"
      ]
     },
     "execution_count": 88,
     "metadata": {},
     "output_type": "execute_result"
    }
   ],
   "source": [
    "np.mean(a, axis=0)"
   ]
  },
  {
   "cell_type": "code",
   "execution_count": 109,
   "id": "53bd80f4",
   "metadata": {},
   "outputs": [
    {
     "name": "stdout",
     "output_type": "stream",
     "text": [
      "[ 4 10 12 23 -2 -1  0  0  0 -6  3 -7]\n"
     ]
    }
   ],
   "source": [
    "print(a)"
   ]
  },
  {
   "cell_type": "code",
   "execution_count": 110,
   "id": "9e34be4b",
   "metadata": {},
   "outputs": [
    {
     "data": {
      "text/plain": [
       "array([ 4, 12, 23, -2, -1,  0,  0,  0, -6, -7])"
      ]
     },
     "execution_count": 110,
     "metadata": {},
     "output_type": "execute_result"
    }
   ],
   "source": [
    "#second - subtract the data point\n",
    "remove_mean = np.delete(a, [-2,1])\n",
    "remove_mean"
   ]
  },
  {
   "cell_type": "code",
   "execution_count": 112,
   "id": "36f3d4a4",
   "metadata": {},
   "outputs": [
    {
     "data": {
      "text/plain": [
       "2.3"
      ]
     },
     "execution_count": 112,
     "metadata": {},
     "output_type": "execute_result"
    }
   ],
   "source": [
    "np.mean(remove_mean, axis=0)#Not it....mean needs to be \"0\"."
   ]
  },
  {
   "cell_type": "code",
   "execution_count": 117,
   "id": "f817aa24",
   "metadata": {},
   "outputs": [
    {
     "data": {
      "text/plain": [
       "36"
      ]
     },
     "execution_count": 117,
     "metadata": {},
     "output_type": "execute_result"
    }
   ],
   "source": [
    "#7. Calculate the z-score for each data point.\n",
    "value=np.sum(a)#find the value\n",
    "value"
   ]
  },
  {
   "cell_type": "code",
   "execution_count": 118,
   "id": "ddf2be2b",
   "metadata": {},
   "outputs": [
    {
     "data": {
      "text/plain": [
       "3.0"
      ]
     },
     "execution_count": 118,
     "metadata": {},
     "output_type": "execute_result"
    }
   ],
   "source": [
    "mean=np.mean(a)#find the mean\n",
    "mean"
   ]
  },
  {
   "cell_type": "code",
   "execution_count": 120,
   "id": "fff3ebfc",
   "metadata": {},
   "outputs": [
    {
     "data": {
      "text/plain": [
       "8.06225774829855"
      ]
     },
     "execution_count": 120,
     "metadata": {},
     "output_type": "execute_result"
    }
   ],
   "source": [
    "deviation=np.std(a)#find the deviation\n",
    "deviation"
   ]
  },
  {
   "cell_type": "code",
   "execution_count": 121,
   "id": "5afeca74",
   "metadata": {},
   "outputs": [
    {
     "data": {
      "text/plain": [
       "4.093146241443879"
      ]
     },
     "execution_count": 121,
     "metadata": {},
     "output_type": "execute_result"
    }
   ],
   "source": [
    "z_score = (value - mean)/deviation#equation to solve for \"z_score\"\n",
    "z_score"
   ]
  },
  {
   "cell_type": "markdown",
   "id": "bf8346a5",
   "metadata": {},
   "source": []
  }
 ],
 "metadata": {
  "kernelspec": {
   "display_name": "Python 3",
   "language": "python",
   "name": "python3"
  },
  "language_info": {
   "codemirror_mode": {
    "name": "ipython",
    "version": 3
   },
   "file_extension": ".py",
   "mimetype": "text/x-python",
   "name": "python",
   "nbconvert_exporter": "python",
   "pygments_lexer": "ipython3",
   "version": "3.8.8"
  }
 },
 "nbformat": 4,
 "nbformat_minor": 5
}
