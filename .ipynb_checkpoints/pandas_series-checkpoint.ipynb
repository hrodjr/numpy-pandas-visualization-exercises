{
 "cells": [
  {
   "cell_type": "code",
   "execution_count": 2,
   "id": "b1e10ba0",
   "metadata": {},
   "outputs": [],
   "source": [
    "import pandas as pd\n",
    "import numpy as np"
   ]
  },
  {
   "cell_type": "code",
   "execution_count": 3,
   "id": "615b9037",
   "metadata": {},
   "outputs": [],
   "source": [
    "#Create a list of colors assigned to the variable \"colors\".\n",
    "colors = [\"kiwi\", \"mango\", \"strawberry\", \"pineapple\", \"gala apple\", \"honeycrisp apple\", \"tomato\", \"watermelon\", \"honeydew\", \"kiwi\", \"kiwi\", \"kiwi\", \"mango\", \"blueberry\", \"blackberry\", \"gooseberry\", \"papaya\"]"
   ]
  },
  {
   "cell_type": "code",
   "execution_count": 4,
   "id": "8094d337",
   "metadata": {},
   "outputs": [],
   "source": [
    "#Created a series with the assigned \"colors\" variable from above.\n",
    "colors_series = pd.Series(colors)"
   ]
  },
  {
   "cell_type": "code",
   "execution_count": 6,
   "id": "1ed57997",
   "metadata": {},
   "outputs": [
    {
     "data": {
      "text/plain": [
       "count       17\n",
       "unique      13\n",
       "top       kiwi\n",
       "freq         4\n",
       "dtype: object"
      ]
     },
     "execution_count": 6,
     "metadata": {},
     "output_type": "execute_result"
    }
   ],
   "source": [
    "#describe the series\n",
    "colors_series.describe()"
   ]
  },
  {
   "cell_type": "code",
   "execution_count": 11,
   "id": "53e537fc",
   "metadata": {},
   "outputs": [
    {
     "data": {
      "text/plain": [
       "17"
      ]
     },
     "execution_count": 11,
     "metadata": {},
     "output_type": "execute_result"
    }
   ],
   "source": [
    "#1. Determine the number of elements in fruits.\n",
    "colors_series.size"
   ]
  },
  {
   "cell_type": "code",
   "execution_count": 12,
   "id": "e4c17a5b",
   "metadata": {},
   "outputs": [
    {
     "data": {
      "text/plain": [
       "RangeIndex(start=0, stop=17, step=1)"
      ]
     },
     "execution_count": 12,
     "metadata": {},
     "output_type": "execute_result"
    }
   ],
   "source": [
    "#2. Output only the index from fruits.\n",
    "colors_series.index"
   ]
  },
  {
   "cell_type": "code",
   "execution_count": 13,
   "id": "994b4c93",
   "metadata": {},
   "outputs": [
    {
     "data": {
      "text/plain": [
       "array(['kiwi', 'mango', 'strawberry', 'pineapple', 'gala apple',\n",
       "       'honeycrisp apple', 'tomato', 'watermelon', 'honeydew', 'kiwi',\n",
       "       'kiwi', 'kiwi', 'mango', 'blueberry', 'blackberry', 'gooseberry',\n",
       "       'papaya'], dtype=object)"
      ]
     },
     "execution_count": 13,
     "metadata": {},
     "output_type": "execute_result"
    }
   ],
   "source": [
    "#3. Output only the values from fruits.\n",
    "colors_series.values"
   ]
  },
  {
   "cell_type": "code",
   "execution_count": 16,
   "id": "6bcc023c",
   "metadata": {},
   "outputs": [
    {
     "data": {
      "text/plain": [
       "pandas.core.series.Series"
      ]
     },
     "execution_count": 16,
     "metadata": {},
     "output_type": "execute_result"
    }
   ],
   "source": [
    "#4. Confirm the data type of the values in fruits.\n",
    "type(colors_series)"
   ]
  },
  {
   "cell_type": "code",
   "execution_count": 18,
   "id": "b76661ef",
   "metadata": {},
   "outputs": [
    {
     "data": {
      "text/plain": [
       "dtype('O')"
      ]
     },
     "execution_count": 18,
     "metadata": {},
     "output_type": "execute_result"
    }
   ],
   "source": [
    "colors_series.dtype"
   ]
  },
  {
   "cell_type": "code",
   "execution_count": 20,
   "id": "e1c33b46",
   "metadata": {},
   "outputs": [
    {
     "data": {
      "text/plain": [
       "0          kiwi\n",
       "1         mango\n",
       "2    strawberry\n",
       "3     pineapple\n",
       "4    gala apple\n",
       "dtype: object"
      ]
     },
     "execution_count": 20,
     "metadata": {},
     "output_type": "execute_result"
    }
   ],
   "source": [
    "#5. Output only the first five values from fruits. Output the last three values. Output two random values from fruits.\n",
    "colors_series.head(5)"
   ]
  },
  {
   "cell_type": "code",
   "execution_count": 21,
   "id": "705126f4",
   "metadata": {},
   "outputs": [
    {
     "data": {
      "text/plain": [
       "count       17\n",
       "unique      13\n",
       "top       kiwi\n",
       "freq         4\n",
       "dtype: object"
      ]
     },
     "execution_count": 21,
     "metadata": {},
     "output_type": "execute_result"
    }
   ],
   "source": [
    "#6. Run the .describe() on fruits to see what information it returns when called on a Series with string values.\n",
    "colors_series.describe()"
   ]
  },
  {
   "cell_type": "code",
   "execution_count": 26,
   "id": "f9df81c6",
   "metadata": {},
   "outputs": [
    {
     "data": {
      "text/plain": [
       "<bound method Series.unique of 0                 kiwi\n",
       "1                mango\n",
       "2           strawberry\n",
       "3            pineapple\n",
       "4           gala apple\n",
       "5     honeycrisp apple\n",
       "6               tomato\n",
       "7           watermelon\n",
       "8             honeydew\n",
       "9                 kiwi\n",
       "10                kiwi\n",
       "11                kiwi\n",
       "12               mango\n",
       "13           blueberry\n",
       "14          blackberry\n",
       "15          gooseberry\n",
       "16              papaya\n",
       "dtype: object>"
      ]
     },
     "execution_count": 26,
     "metadata": {},
     "output_type": "execute_result"
    }
   ],
   "source": [
    "#7. Run the code necessary to produce only the unique string values from fruits.\n",
    "\n",
    "colors_series.unique"
   ]
  },
  {
   "cell_type": "code",
   "execution_count": 37,
   "id": "ffcb6a1d",
   "metadata": {},
   "outputs": [
    {
     "data": {
      "text/plain": [
       "kiwi                4\n",
       "mango               2\n",
       "pineapple           1\n",
       "gooseberry          1\n",
       "honeydew            1\n",
       "watermelon          1\n",
       "honeycrisp apple    1\n",
       "strawberry          1\n",
       "gala apple          1\n",
       "blueberry           1\n",
       "blackberry          1\n",
       "papaya              1\n",
       "tomato              1\n",
       "dtype: int64"
      ]
     },
     "execution_count": 37,
     "metadata": {},
     "output_type": "execute_result"
    }
   ],
   "source": [
    "#8. Determine how many times each unique string value occurs in fruits.\n",
    "colors_series.value_counts()"
   ]
  },
  {
   "cell_type": "code",
   "execution_count": 46,
   "id": "6b8826a4",
   "metadata": {},
   "outputs": [
    {
     "data": {
      "text/plain": [
       "kiwi                0.235294\n",
       "mango               0.117647\n",
       "pineapple           0.058824\n",
       "gooseberry          0.058824\n",
       "honeydew            0.058824\n",
       "watermelon          0.058824\n",
       "honeycrisp apple    0.058824\n",
       "strawberry          0.058824\n",
       "gala apple          0.058824\n",
       "blueberry           0.058824\n",
       "blackberry          0.058824\n",
       "papaya              0.058824\n",
       "tomato              0.058824\n",
       "dtype: float64"
      ]
     },
     "execution_count": 46,
     "metadata": {},
     "output_type": "execute_result"
    }
   ],
   "source": [
    "#9. Determine the string value that occurs most frequently in fruits.\n",
    "colors_series.value_counts('kiwi')"
   ]
  },
  {
   "cell_type": "code",
   "execution_count": null,
   "id": "ab68e654",
   "metadata": {},
   "outputs": [],
   "source": [
    "#10. Determine the string value that occurs least frequently in fruits."
   ]
  }
 ],
 "metadata": {
  "kernelspec": {
   "display_name": "Python 3",
   "language": "python",
   "name": "python3"
  },
  "language_info": {
   "codemirror_mode": {
    "name": "ipython",
    "version": 3
   },
   "file_extension": ".py",
   "mimetype": "text/x-python",
   "name": "python",
   "nbconvert_exporter": "python",
   "pygments_lexer": "ipython3",
   "version": "3.8.8"
  }
 },
 "nbformat": 4,
 "nbformat_minor": 5
}
