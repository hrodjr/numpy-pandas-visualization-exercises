{
 "cells": [
  {
   "cell_type": "code",
   "execution_count": 2,
   "id": "c070c58f",
   "metadata": {},
   "outputs": [],
   "source": [
    "import pandas as pd\n",
    "import numpy as np"
   ]
  },
  {
   "cell_type": "code",
   "execution_count": 3,
   "id": "499465fa",
   "metadata": {},
   "outputs": [],
   "source": [
    "#Create a list of colors assigned to the variable \"colors\".\n",
    "colors = [\"kiwi\", \"mango\", \"strawberry\", \"pineapple\", \"gala apple\", \"honeycrisp apple\", \"tomato\", \"watermelon\", \"honeydew\", \"kiwi\", \"kiwi\", \"kiwi\", \"mango\", \"blueberry\", \"blackberry\", \"gooseberry\", \"papaya\"]"
   ]
  },
  {
   "cell_type": "code",
   "execution_count": 4,
   "id": "4730744e",
   "metadata": {},
   "outputs": [],
   "source": [
    "#Created a series with the assigned \"colors\" variable from above.\n",
    "colors_series = pd.Series(colors)"
   ]
  },
  {
   "cell_type": "code",
   "execution_count": 47,
   "id": "ddd8d1b2",
   "metadata": {},
   "outputs": [
    {
     "data": {
      "text/plain": [
       "count       17\n",
       "unique      13\n",
       "top       kiwi\n",
       "freq         4\n",
       "dtype: object"
      ]
     },
     "execution_count": 47,
     "metadata": {},
     "output_type": "execute_result"
    }
   ],
   "source": [
    "#describe the series\n",
    "colors_series.describe()"
   ]
  },
  {
   "cell_type": "code",
   "execution_count": 48,
   "id": "4171e3bc",
   "metadata": {},
   "outputs": [
    {
     "data": {
      "text/plain": [
       "0          kiwi\n",
       "1         mango\n",
       "2    strawberry\n",
       "3     pineapple\n",
       "4    gala apple\n",
       "dtype: object"
      ]
     },
     "execution_count": 48,
     "metadata": {},
     "output_type": "execute_result"
    }
   ],
   "source": [
    "colors_series.head()"
   ]
  },
  {
   "cell_type": "code",
   "execution_count": 11,
   "id": "8b265352",
   "metadata": {},
   "outputs": [
    {
     "data": {
      "text/plain": [
       "17"
      ]
     },
     "execution_count": 11,
     "metadata": {},
     "output_type": "execute_result"
    }
   ],
   "source": [
    "#1. Determine the number of elements in fruits.\n",
    "colors_series.size"
   ]
  },
  {
   "cell_type": "code",
   "execution_count": 50,
   "id": "e5bcb909",
   "metadata": {},
   "outputs": [
    {
     "data": {
      "text/plain": [
       "17"
      ]
     },
     "execution_count": 50,
     "metadata": {},
     "output_type": "execute_result"
    }
   ],
   "source": [
    "#OR\n",
    "len(colors_series)"
   ]
  },
  {
   "cell_type": "code",
   "execution_count": 12,
   "id": "b836d36e",
   "metadata": {},
   "outputs": [
    {
     "data": {
      "text/plain": [
       "RangeIndex(start=0, stop=17, step=1)"
      ]
     },
     "execution_count": 12,
     "metadata": {},
     "output_type": "execute_result"
    }
   ],
   "source": [
    "#2. Output only the index from fruits.\n",
    "colors_series.index"
   ]
  },
  {
   "cell_type": "code",
   "execution_count": 49,
   "id": "08a6630c",
   "metadata": {},
   "outputs": [
    {
     "data": {
      "text/plain": [
       "[0, 1, 2, 3, 4, 5, 6, 7, 8, 9, 10, 11, 12, 13, 14, 15, 16]"
      ]
     },
     "execution_count": 49,
     "metadata": {},
     "output_type": "execute_result"
    }
   ],
   "source": [
    "#review \n",
    "colors_series.index.tolist()"
   ]
  },
  {
   "cell_type": "code",
   "execution_count": 13,
   "id": "8e91245b",
   "metadata": {},
   "outputs": [
    {
     "data": {
      "text/plain": [
       "array(['kiwi', 'mango', 'strawberry', 'pineapple', 'gala apple',\n",
       "       'honeycrisp apple', 'tomato', 'watermelon', 'honeydew', 'kiwi',\n",
       "       'kiwi', 'kiwi', 'mango', 'blueberry', 'blackberry', 'gooseberry',\n",
       "       'papaya'], dtype=object)"
      ]
     },
     "execution_count": 13,
     "metadata": {},
     "output_type": "execute_result"
    }
   ],
   "source": [
    "#3. Output only the values from fruits.\n",
    "colors_series.values"
   ]
  },
  {
   "cell_type": "code",
   "execution_count": 51,
   "id": "7d7fdc9e",
   "metadata": {},
   "outputs": [
    {
     "data": {
      "text/plain": [
       "['kiwi',\n",
       " 'mango',\n",
       " 'strawberry',\n",
       " 'pineapple',\n",
       " 'gala apple',\n",
       " 'honeycrisp apple',\n",
       " 'tomato',\n",
       " 'watermelon',\n",
       " 'honeydew',\n",
       " 'kiwi',\n",
       " 'kiwi',\n",
       " 'kiwi',\n",
       " 'mango',\n",
       " 'blueberry',\n",
       " 'blackberry',\n",
       " 'gooseberry',\n",
       " 'papaya']"
      ]
     },
     "execution_count": 51,
     "metadata": {},
     "output_type": "execute_result"
    }
   ],
   "source": [
    "#OR \n",
    "colors_series.values.tolist()"
   ]
  },
  {
   "cell_type": "code",
   "execution_count": 16,
   "id": "de95cb1a",
   "metadata": {},
   "outputs": [
    {
     "data": {
      "text/plain": [
       "pandas.core.series.Series"
      ]
     },
     "execution_count": 16,
     "metadata": {},
     "output_type": "execute_result"
    }
   ],
   "source": [
    "#4. Confirm the data type of the values in fruits.\n",
    "type(colors_series)"
   ]
  },
  {
   "cell_type": "code",
   "execution_count": 18,
   "id": "a0e34e23",
   "metadata": {},
   "outputs": [
    {
     "data": {
      "text/plain": [
       "dtype('O')"
      ]
     },
     "execution_count": 18,
     "metadata": {},
     "output_type": "execute_result"
    }
   ],
   "source": [
    "colors_series.dtype"
   ]
  },
  {
   "cell_type": "code",
   "execution_count": 20,
   "id": "bd967a9c",
   "metadata": {},
   "outputs": [
    {
     "data": {
      "text/plain": [
       "0          kiwi\n",
       "1         mango\n",
       "2    strawberry\n",
       "3     pineapple\n",
       "4    gala apple\n",
       "dtype: object"
      ]
     },
     "execution_count": 20,
     "metadata": {},
     "output_type": "execute_result"
    }
   ],
   "source": [
    "#5. Output only the first five values from fruits. Output the last three values. Output two random values from fruits.\n",
    "colors_series.head(5)"
   ]
  },
  {
   "cell_type": "code",
   "execution_count": 21,
   "id": "d702d6e8",
   "metadata": {},
   "outputs": [
    {
     "data": {
      "text/plain": [
       "count       17\n",
       "unique      13\n",
       "top       kiwi\n",
       "freq         4\n",
       "dtype: object"
      ]
     },
     "execution_count": 21,
     "metadata": {},
     "output_type": "execute_result"
    }
   ],
   "source": [
    "#6. Run the .describe() on fruits to see what information it returns when called on a Series with string values.\n",
    "colors_series.describe()"
   ]
  },
  {
   "cell_type": "code",
   "execution_count": 52,
   "id": "2e04e119",
   "metadata": {},
   "outputs": [
    {
     "data": {
      "text/plain": [
       "array(['kiwi', 'mango', 'strawberry', 'pineapple', 'gala apple',\n",
       "       'honeycrisp apple', 'tomato', 'watermelon', 'honeydew',\n",
       "       'blueberry', 'blackberry', 'gooseberry', 'papaya'], dtype=object)"
      ]
     },
     "execution_count": 52,
     "metadata": {},
     "output_type": "execute_result"
    }
   ],
   "source": [
    "#7. Run the code necessary to produce only the unique string values from fruits.\n",
    "#adding \"()\" shows an \"array\" of unique values. removing \"()\" shows a list of all values.\n",
    "colors_series.unique()"
   ]
  },
  {
   "cell_type": "code",
   "execution_count": 37,
   "id": "065db82e",
   "metadata": {},
   "outputs": [
    {
     "data": {
      "text/plain": [
       "kiwi                4\n",
       "mango               2\n",
       "pineapple           1\n",
       "gooseberry          1\n",
       "honeydew            1\n",
       "watermelon          1\n",
       "honeycrisp apple    1\n",
       "strawberry          1\n",
       "gala apple          1\n",
       "blueberry           1\n",
       "blackberry          1\n",
       "papaya              1\n",
       "tomato              1\n",
       "dtype: int64"
      ]
     },
     "execution_count": 37,
     "metadata": {},
     "output_type": "execute_result"
    }
   ],
   "source": [
    "#8. Determine how many times each unique string value occurs in fruits.\n",
    "colors_series.value_counts()"
   ]
  },
  {
   "cell_type": "code",
   "execution_count": 53,
   "id": "d1286a99",
   "metadata": {},
   "outputs": [
    {
     "data": {
      "text/plain": [
       "kiwi                4\n",
       "mango               2\n",
       "pineapple           1\n",
       "gooseberry          1\n",
       "honeydew            1\n",
       "watermelon          1\n",
       "honeycrisp apple    1\n",
       "strawberry          1\n",
       "gala apple          1\n",
       "blueberry           1\n",
       "blackberry          1\n",
       "papaya              1\n",
       "tomato              1\n",
       "dtype: int64"
      ]
     },
     "execution_count": 53,
     "metadata": {},
     "output_type": "execute_result"
    }
   ],
   "source": [
    "#9. Determine the string value that occurs most frequently in fruits.\n",
    "colors_series.value_counts()"
   ]
  },
  {
   "cell_type": "code",
   "execution_count": 54,
   "id": "a69cbcb6",
   "metadata": {},
   "outputs": [
    {
     "data": {
      "text/plain": [
       "kiwi    4\n",
       "dtype: int64"
      ]
     },
     "execution_count": 54,
     "metadata": {},
     "output_type": "execute_result"
    }
   ],
   "source": [
    "#See review recording\n",
    "colors_series.value_counts().head(1)"
   ]
  },
  {
   "cell_type": "code",
   "execution_count": 56,
   "id": "22801ecd",
   "metadata": {},
   "outputs": [
    {
     "data": {
      "text/plain": [
       "'kiwi'"
      ]
     },
     "execution_count": 56,
     "metadata": {},
     "output_type": "execute_result"
    }
   ],
   "source": [
    "#OR\n",
    "colors_series.value_counts().idxmax()"
   ]
  },
  {
   "cell_type": "code",
   "execution_count": 59,
   "id": "66c127fa",
   "metadata": {},
   "outputs": [
    {
     "data": {
      "text/plain": [
       "kiwi    4\n",
       "dtype: int64"
      ]
     },
     "execution_count": 59,
     "metadata": {},
     "output_type": "execute_result"
    }
   ],
   "source": [
    "#OR\n",
    "colors_series.value_counts().nlargest(n=1 , keep=\"all\")"
   ]
  },
  {
   "cell_type": "code",
   "execution_count": 61,
   "id": "d92eb6c2",
   "metadata": {},
   "outputs": [
    {
     "data": {
      "text/plain": [
       "pineapple           1\n",
       "gooseberry          1\n",
       "honeydew            1\n",
       "watermelon          1\n",
       "honeycrisp apple    1\n",
       "strawberry          1\n",
       "gala apple          1\n",
       "blueberry           1\n",
       "blackberry          1\n",
       "papaya              1\n",
       "tomato              1\n",
       "dtype: int64"
      ]
     },
     "execution_count": 61,
     "metadata": {},
     "output_type": "execute_result"
    }
   ],
   "source": [
    "#10. Determine the string value that occurs least frequently in fruits.\n",
    "\n",
    "colors_series.value_counts().nsmallest(n=1, keep=\"all\")"
   ]
  },
  {
   "cell_type": "code",
   "execution_count": null,
   "id": "b9075535",
   "metadata": {},
   "outputs": [],
   "source": []
  }
 ],
 "metadata": {
  "kernelspec": {
   "display_name": "Python 3",
   "language": "python",
   "name": "python3"
  },
  "language_info": {
   "codemirror_mode": {
    "name": "ipython",
    "version": 3
   },
   "file_extension": ".py",
   "mimetype": "text/x-python",
   "name": "python",
   "nbconvert_exporter": "python",
   "pygments_lexer": "ipython3",
   "version": "3.8.8"
  }
 },
 "nbformat": 4,
 "nbformat_minor": 5
}
